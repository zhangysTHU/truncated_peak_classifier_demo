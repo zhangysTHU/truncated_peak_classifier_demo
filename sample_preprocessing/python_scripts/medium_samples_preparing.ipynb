{
 "cells": [
  {
   "cell_type": "code",
   "execution_count": 141,
   "metadata": {},
   "outputs": [],
   "source": [
    "import pandas as pd\n",
    "import numpy as np\n",
    "import seaborn as sns\n",
    "import matplotlib.pyplot as plt\n",
    "import os"
   ]
  },
  {
   "cell_type": "code",
   "execution_count": null,
   "metadata": {},
   "outputs": [],
   "source": [
    "# 函数：对每个onehot_sequence字符串进行重新排序\n",
    "def reorder_onehot_sequence(sequence):\n",
    "    # 将字符串转化为列表，按4个数字一组进行切割\n",
    "    chunks = [sequence[i:i+4] for i in range(0, len(sequence), 4)]\n",
    "    \n",
    "    # 创建新的四个部分，分别对应每组的第一、第二、第三、第四个数字\n",
    "    part1 = ''.join([chunk[0] for chunk in chunks])  # 每组的第一个数字\n",
    "    part2 = ''.join([chunk[1] for chunk in chunks])  # 每组的第二个数字\n",
    "    part3 = ''.join([chunk[2] for chunk in chunks])  # 每组的第三个数字\n",
    "    part4 = ''.join([chunk[3] for chunk in chunks])  # 每组的第四个数字\n",
    "    \n",
    "    # 合并四部分并返回新的字符串\n",
    "    return part1 + part2 + part3 + part4"
   ]
  },
  {
   "cell_type": "code",
   "execution_count": null,
   "metadata": {},
   "outputs": [],
   "source": [
    "# 函数：将DNA序列转化为one-hot编码的展平向量\n",
    "def sequence_to_onehot(sequence):\n",
    "    # 使用ATCG四位one hot\n",
    "    base_to_onehot = {\n",
    "        'A': [1, 0, 0, 0],  # A -> [1, 0, 0, 0]\n",
    "        'a': [1, 0, 0, 0],\n",
    "        'T': [0, 1, 0, 0],  # T -> [0, 1, 0, 0]\n",
    "        't': [0, 1, 0, 0], \n",
    "        'C': [0, 0, 1, 0],  # C -> [0, 0, 1, 0]\n",
    "        'c': [0, 0, 1, 0],\n",
    "        'G': [0, 0, 0, 1],   # G -> [0, 0, 0, 1]\n",
    "        'g': [0, 0, 0, 1]\n",
    "    }\n",
    "    onehot = []\n",
    "    for base in sequence:\n",
    "        onehot.extend(base_to_onehot.get(base, [0, 0, 0, 0]))  # 获取one-hot编码\n",
    "    return onehot"
   ]
  },
  {
   "cell_type": "code",
   "execution_count": null,
   "metadata": {},
   "outputs": [],
   "source": [
    "def sample_preprocessing(sample_name, ColumnAttention = False):\n",
    "    NomalSamples = 'NomalSamples'\n",
    "    if (ColumnAttention):\n",
    "        NomalSamples = 'SelfAttentionSamples'\n",
    "    Cov_Mod_path = f'/BioII/lulab_b/huangkeyun/zhangys/alkb-seq/resources/medium_data/{sample_name}_recenter_Cov_Mod.txt'\n",
    "    sequence_df_path = f'/BioII/lulab_b/huangkeyun/zhangys/alkb-seq/resources/medium_data/{sample_name}_recenter.fa.csv'\n",
    "    # sample_name = os.path.basename(Cov_Mod_path).split('_')[0]\n",
    "\n",
    "    # 读取正在处理样本的两个文件，规范sampl列\n",
    "    Cov_Mod_df = pd.read_csv(Cov_Mod_path,sep = '\\t')\n",
    "    sequence_df = pd.read_csv(sequence_df_path, names = ['sample', 'score1', 'score2', 'struc', 'sequence'])\n",
    "    sequence_df['sample'] = Cov_Mod_df['sample'].str.split('>').str[0]\n",
    "\n",
    "    # 从sequence文件删除存在N额行，并根据sample列从Cov_Mod文件中同步删除行\n",
    "    # 记录包含'N'的行的 sample 信息\n",
    "    original_row_count = len(sequence_df)\n",
    "    deleted_samples = sequence_df[sequence_df['sequence'].str.contains('N|n')]['sample'].tolist()\n",
    "    sequence_df = sequence_df[~sequence_df['sequence'].str.contains('N|n')]\n",
    "    # 从 Cov_Mod_df 中删除相应的行\n",
    "    Cov_Mod_df = Cov_Mod_df[~Cov_Mod_df['sample'].isin(deleted_samples)]\n",
    "    # 计算行数变化\n",
    "    new_row_count = len(sequence_df)\n",
    "    deleted_rows = original_row_count - new_row_count\n",
    "    print(f\"删除了 {deleted_rows} 行，其中 sample 列的样本为：{deleted_samples}\")\n",
    "\n",
    "    # 根据sample列生成label，保存为csv文件\n",
    "    Cov_Mod_df['last_part'] = Cov_Mod_df['sample'].str.split('|').str[-1]\n",
    "    Cov_Mod_df['label'] = Cov_Mod_df['last_part'].map({'same': 0, 'diff': 1})\n",
    "    labels_df = Cov_Mod_df[[\"sample\", \"label\"]]\n",
    "    labels_output_path = f'/BioII/lulab_b/huangkeyun/zhangys/alkb-seq/resources/{NomalSamples}/labels/{sample_name}_labels.csv'\n",
    "    labels_df.to_csv(labels_output_path,index = None)\n",
    "\n",
    "    # 创建用于最终输出的sample_prepared_df，向其注入Cov_Mod文件列和sequence产生的onehot编码\n",
    "    sample_prepared_df = Cov_Mod_df.iloc[:, 0:-1-1]\n",
    "\n",
    "\n",
    "    # 将每个DNA序列转换为one-hot编码并展平\n",
    "    sequence_df['onehot_sequence'] = sequence_df['sequence'].apply(sequence_to_onehot)\n",
    "    sample_prepared_df = pd.concat([sample_prepared_df, sequence_df['onehot_sequence']], axis=1)\n",
    "    # 去除分隔符号\n",
    "    sample_prepared_df['onehot_sequence'] = sample_prepared_df['onehot_sequence'].apply(lambda x: ''.join(map(str, x)))\n",
    "\n",
    "    # optional： 如果要生成列注意力样本，对每一行的 'onehot_sequence' 列进行重新排序\n",
    "    if (ColumnAttention == True):\n",
    "        sample_prepared_df['onehot_sequence'] = sample_prepared_df['onehot_sequence'].apply(reorder_onehot_sequence)\n",
    "\n",
    "    # 将字符串分隔为列\n",
    "    sample_prepared_df[['seq' + str(i+1) for i in range(160)]] = sample_prepared_df['onehot_sequence'].apply(lambda x: pd.Series(list(x)))\n",
    "    sample_prepared_df = sample_prepared_df.drop(columns=['onehot_sequence'])\n",
    "    sample_prepared_output_path = f'/BioII/lulab_b/huangkeyun/zhangys/alkb-seq/resources/{NomalSamples}/samples/{sample_name}_sample_prepared.csv'\n",
    "    sample_prepared_df.to_csv(sample_prepared_output_path, sep = ',', index = None)"
   ]
  },
  {
   "cell_type": "code",
   "execution_count": null,
   "metadata": {},
   "outputs": [],
   "source": [
    "sample_list = [\"SRR11004103\",\"SRR11004104\",\"SRR11004105\",\"SRR11004118\",\"SRR11004119\",\"SRR11004120\",\"SRR11004130\",\"SRR11004131\"]\n",
    "for sample_name in sample_list:\n",
    "    sample_preprocessing(sample_name, ColumnAttention = False)"
   ]
  },
  {
   "cell_type": "code",
   "execution_count": null,
   "metadata": {},
   "outputs": [],
   "source": [
    "sample_list = [\"SRR11004103\",\"SRR11004104\",\"SRR11004105\",\"SRR11004118\",\"SRR11004119\",\"SRR11004120\",\"SRR11004130\",\"SRR11004131\"]\n",
    "for sample_name in sample_list:\n",
    "    sample_preprocessing(sample_name, ColumnAttention = True)"
   ]
  }
 ],
 "metadata": {
  "kernelspec": {
   "display_name": "base",
   "language": "python",
   "name": "python3"
  },
  "language_info": {
   "codemirror_mode": {
    "name": "ipython",
    "version": 3
   },
   "file_extension": ".py",
   "mimetype": "text/x-python",
   "name": "python",
   "nbconvert_exporter": "python",
   "pygments_lexer": "ipython3",
   "version": "3.10.12"
  }
 },
 "nbformat": 4,
 "nbformat_minor": 2
}
